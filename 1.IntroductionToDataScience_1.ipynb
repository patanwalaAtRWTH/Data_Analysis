{
 "cells": [
  {
   "cell_type": "markdown",
   "metadata": {},
   "source": [
    "<h1 style='color:red'> What is data science  ? </h1>"
   ]
  },
  {
   "cell_type": "markdown",
   "metadata": {},
   "source": [
    "    a study about data to find some usefull insights from data to make decisions or solve a problem"
   ]
  },
  {
   "cell_type": "markdown",
   "metadata": {},
   "source": [
    "    what is data ? \n",
    "        \n",
    "        whatever we know or we can explain is data, there many forms of data\n",
    "        \n",
    "        but in data science we deal digitial stored information in a structured or non-structred manner\n",
    "        \n",
    "        Type of Data according to structure \n",
    "        \n",
    "            Structured Data - list, excelsheets, sql-database\n",
    "            \n",
    "            Unstructured Data - raw data, log, audio, video\n",
    "            \n",
    "            Semi-Structred Data - which has some kind of structure but still not fully structured data\n",
    "                                  json, xml, \n",
    "            \n",
    "\n",
    "    from where i will get data ? \n",
    "    \n",
    "        source of data generation\n",
    "        \n",
    "            \n",
    "            databases   - sql & no-sql\n",
    "            \n",
    "            warehouses  - streaming\n",
    "            \n",
    "            social platform - APIs\n",
    "            \n",
    "            websites (reviews, product information) - webscrapping\n",
    "            \n",
    "            government \n",
    "            \n",
    "            server (log server) - socket\n",
    "            \n",
    "            senosors (machine equipments) - socket\n",
    "            \n",
    "            surveys - manual or automated task \n",
    "            \n",
    "            \n",
    "            \n",
    "            \n",
    "            \n"
   ]
  },
  {
   "cell_type": "markdown",
   "metadata": {},
   "source": [
    "<h1 style='color:red'> What skills a person should have to become a data scientist ?</h1>"
   ]
  },
  {
   "cell_type": "markdown",
   "metadata": {},
   "source": [
    "    Curiosity - should be able to form relevent questions to answer from data \n",
    "    \n",
    "    Communication - should be able to tell a story with the help of data \n",
    "    \n",
    "    Programming - should be familer with atlease one programming langauge which has tools to process data\n",
    "    \n",
    "    Databases - sholud know how to fetch and store data from and to database\n",
    "    \n",
    "    Maths - algebra, calculas, metrices & vectors, statistics, probability\n",
    "    \n",
    "    Data Mining & Data Engnieering - pre-processing of data to make data suitable for analysis\n",
    "    \n",
    "    Data Analysis - Explore the data to find answers of questions \n",
    "    \n",
    "    Data Visualzation - graphs to view data to gain more meaning full information that is hidden in statistical reports\n",
    "    \n",
    "    Machine Learning - Supervise & Unsupervise\n",
    "    \n",
    "    Deep Learnign - neural networks \n",
    "    \n",
    "    Big Data Technologies - to process huge amount of data\n",
    "    \n",
    "    Tools: data science open source or commercial tools used in companies\n",
    "    \n",
    "    "
   ]
  },
  {
   "cell_type": "markdown",
   "metadata": {},
   "source": [
    "    1. Data Management\n",
    "    2. Data Integration & Transformation\n",
    "    3. Data Visulation\n",
    "    4. Model Deployment\n",
    "    5. Model Monitioring & Assesment\n",
    "    6. Code Acsset Mangement tools\n",
    "    7. Development Enviroments tools\n",
    "    8. Execution Environment"
   ]
  },
  {
   "cell_type": "markdown",
   "metadata": {},
   "source": [
    "report : \n",
    "\n",
    "    tools used in data science world  open source and commercial both ? "
   ]
  },
  {
   "cell_type": "code",
   "execution_count": null,
   "metadata": {},
   "outputs": [],
   "source": []
  },
  {
   "cell_type": "markdown",
   "metadata": {},
   "source": [
    "**Stats**"
   ]
  },
  {
   "cell_type": "code",
   "execution_count": 1,
   "metadata": {},
   "outputs": [
    {
     "name": "stderr",
     "output_type": "stream",
     "text": [
      "100%|███████████████████████████████████████████████████████████████████████| 900/900 [15:01<00:00,  1.00s/it]\n"
     ]
    }
   ],
   "source": [
    "from tqdm import tqdm \n",
    "from time import sleep\n",
    "\n",
    "for _ in tqdm(range(900)):\n",
    "    sleep(1)"
   ]
  },
  {
   "cell_type": "markdown",
   "metadata": {},
   "source": [
    "Our Road Map\n",
    "\n",
    "    1. Maths : Stats, algebra, calculas, metrices & vectors, probability\n",
    "    \n",
    "    2. Data Science using Python\n",
    "    \n",
    "        1. Numpy & Scipy Module - to proess metrices and apply statistical knowlege on data\n",
    "        \n",
    "        2. Pandas to pre-process and Analyze the data\n",
    "        \n",
    "        3. Matplotlib, Seaborn, plotly - data Visulations \n",
    "        \n",
    "        4. sklearn, tensorflow, kera, opencv, Machine Learning & deep learning\n",
    "        \n",
    "        5. pyspark for distributed computing & Big Data Processing\n",
    "        \n",
    "    3. Above using R\n",
    "    \n",
    "    4. Big data - hadoop, database\n",
    "    \n",
    "    5. AWS, Linux \n",
    "    \n",
    "    (Admin) Dev-Ops -> go through it ansible, docker, kubernets, jenkins, openshift, openstack, ceph, glusterfs"
   ]
  },
  {
   "cell_type": "markdown",
   "metadata": {},
   "source": [
    "    Data Pipeline Creation"
   ]
  },
  {
   "cell_type": "markdown",
   "metadata": {},
   "source": [
    "    source -> storage -> processing -> modeling -> monitioring -> optimization "
   ]
  },
  {
   "cell_type": "markdown",
   "metadata": {},
   "source": [
    "    report -> 1 hr \n",
    "\n",
    "    stats -> 3 hr "
   ]
  },
  {
   "cell_type": "code",
   "execution_count": null,
   "metadata": {},
   "outputs": [],
   "source": []
  }
 ],
 "metadata": {
  "kernelspec": {
   "display_name": "Python 3",
   "language": "python",
   "name": "python3"
  },
  "language_info": {
   "codemirror_mode": {
    "name": "ipython",
    "version": 3
   },
   "file_extension": ".py",
   "mimetype": "text/x-python",
   "name": "python",
   "nbconvert_exporter": "python",
   "pygments_lexer": "ipython3",
   "version": "3.7.4"
  }
 },
 "nbformat": 4,
 "nbformat_minor": 2
}

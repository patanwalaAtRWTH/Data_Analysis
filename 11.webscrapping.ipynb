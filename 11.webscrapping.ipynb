{
 "cells": [
  {
   "cell_type": "markdown",
   "metadata": {},
   "source": [
    "## Web Scrapping"
   ]
  },
  {
   "cell_type": "code",
   "execution_count": 4,
   "metadata": {},
   "outputs": [],
   "source": [
    "import requests\n"
   ]
  },
  {
   "cell_type": "markdown",
   "metadata": {},
   "source": [
    "    gathering data from web pages "
   ]
  },
  {
   "cell_type": "code",
   "execution_count": 2,
   "metadata": {},
   "outputs": [],
   "source": [
    "# http protocol we requests library to get content"
   ]
  },
  {
   "cell_type": "code",
   "execution_count": 3,
   "metadata": {},
   "outputs": [],
   "source": [
    "url = \"https://grras.com/\"\n",
    "page = requests.get(url) # requesting server for data"
   ]
  },
  {
   "cell_type": "code",
   "execution_count": 7,
   "metadata": {},
   "outputs": [
    {
     "name": "stdout",
     "output_type": "stream",
     "text": [
      "<class 'requests.models.Response'>\n"
     ]
    }
   ],
   "source": [
    "print(type(page))"
   ]
  },
  {
   "cell_type": "code",
   "execution_count": 5,
   "metadata": {},
   "outputs": [
    {
     "data": {
      "text/plain": [
       "200"
      ]
     },
     "execution_count": 5,
     "metadata": {},
     "output_type": "execute_result"
    }
   ],
   "source": [
    "page.status_code"
   ]
  },
  {
   "cell_type": "code",
   "execution_count": 6,
   "metadata": {},
   "outputs": [
    {
     "data": {
      "text/plain": [
       "{'Date': 'Fri, 19 Jun 2020 07:39:14 GMT', 'Server': 'Apache/2.4.18 (Ubuntu)', 'Cache-Control': 'no-cache', 'Set-Cookie': 'XSRF-TOKEN=eyJpdiI6InpQZXV2VURjZVA1d0ZnZmZta21rS3c9PSIsInZhbHVlIjoiZXhxeGpLRExXODd4MnllbDFDUVdnN3AwYWZiWGhINHFnazBJazdlRlNmQ1dRdjB0S3F1RnBUa0tXcnVmbDYxYnRpeUY5RXlhSmhMYW5aZnhSdklLMmc9PSIsIm1hYyI6IjFmYjdmYTEzNWQ4NTZmZDk2NWJjNzU1ODE1ODk1YjVhODRlYmQxMjc1NDY0MDk4MTg2NDEyODNhYzZjMmMxOTUifQ%3D%3D; expires=Fri, 19-Jun-2020 09:39:14 GMT; Max-Age=7200; path=/, laravel_session=eyJpdiI6Ik9EVmF6STY5eVJLU3J4NjRWbEFtRVE9PSIsInZhbHVlIjoibXg2aHNQYUZQWFdpUk8rWHJvc0krVWZcL0tuUVl0OW9CNmtrU1dGYk1GcXpwRzRDTnMrS1M2a1hWb0I5OXM4TVJVVEVyTjVWVnNISmRzME50dmRNYndRPT0iLCJtYWMiOiJmNTJlOTY0MWZhNWM2Mjk2Zjk5Yjg3Yjg1ZmNmM2I3MTg4YzNhYzBmNGU1OTQ4NzU3Nzc4MWJiYTU1MjVjMjQ1In0%3D; expires=Fri, 19-Jun-2020 09:39:14 GMT; Max-Age=7200; path=/; HttpOnly', 'Vary': 'Accept-Encoding', 'Content-Encoding': 'gzip', 'Referrer-Policy': '', 'Content-Length': '23554', 'Keep-Alive': 'timeout=5, max=100', 'Connection': 'Keep-Alive', 'Content-Type': 'text/html; charset=UTF-8'}"
      ]
     },
     "execution_count": 6,
     "metadata": {},
     "output_type": "execute_result"
    }
   ],
   "source": [
    "page.headers"
   ]
  },
  {
   "cell_type": "code",
   "execution_count": 8,
   "metadata": {},
   "outputs": [
    {
     "data": {
      "text/plain": [
       "<RequestsCookieJar[Cookie(version=0, name='XSRF-TOKEN', value='eyJpdiI6InpQZXV2VURjZVA1d0ZnZmZta21rS3c9PSIsInZhbHVlIjoiZXhxeGpLRExXODd4MnllbDFDUVdnN3AwYWZiWGhINHFnazBJazdlRlNmQ1dRdjB0S3F1RnBUa0tXcnVmbDYxYnRpeUY5RXlhSmhMYW5aZnhSdklLMmc9PSIsIm1hYyI6IjFmYjdmYTEzNWQ4NTZmZDk2NWJjNzU1ODE1ODk1YjVhODRlYmQxMjc1NDY0MDk4MTg2NDEyODNhYzZjMmMxOTUifQ%3D%3D', port=None, port_specified=False, domain='grras.com', domain_specified=False, domain_initial_dot=False, path='/', path_specified=True, secure=False, expires=1592559554, discard=False, comment=None, comment_url=None, rest={}, rfc2109=False), Cookie(version=0, name='laravel_session', value='eyJpdiI6Ik9EVmF6STY5eVJLU3J4NjRWbEFtRVE9PSIsInZhbHVlIjoibXg2aHNQYUZQWFdpUk8rWHJvc0krVWZcL0tuUVl0OW9CNmtrU1dGYk1GcXpwRzRDTnMrS1M2a1hWb0I5OXM4TVJVVEVyTjVWVnNISmRzME50dmRNYndRPT0iLCJtYWMiOiJmNTJlOTY0MWZhNWM2Mjk2Zjk5Yjg3Yjg1ZmNmM2I3MTg4YzNhYzBmNGU1OTQ4NzU3Nzc4MWJiYTU1MjVjMjQ1In0%3D', port=None, port_specified=False, domain='grras.com', domain_specified=False, domain_initial_dot=False, path='/', path_specified=True, secure=False, expires=1592559554, discard=False, comment=None, comment_url=None, rest={'HttpOnly': None}, rfc2109=False)]>"
      ]
     },
     "execution_count": 8,
     "metadata": {},
     "output_type": "execute_result"
    }
   ],
   "source": [
    "page.cookies"
   ]
  },
  {
   "cell_type": "code",
   "execution_count": 9,
   "metadata": {},
   "outputs": [
    {
     "name": "stdout",
     "output_type": "stream",
     "text": [
      "['__attrs__', '__bool__', '__class__', '__delattr__', '__dict__', '__dir__', '__doc__', '__enter__', '__eq__', '__exit__', '__format__', '__ge__', '__getattribute__', '__getstate__', '__gt__', '__hash__', '__init__', '__init_subclass__', '__iter__', '__le__', '__lt__', '__module__', '__ne__', '__new__', '__nonzero__', '__reduce__', '__reduce_ex__', '__repr__', '__setattr__', '__setstate__', '__sizeof__', '__str__', '__subclasshook__', '__weakref__', '_content', '_content_consumed', '_next', 'apparent_encoding', 'close', 'connection', 'content', 'cookies', 'elapsed', 'encoding', 'headers', 'history', 'is_permanent_redirect', 'is_redirect', 'iter_content', 'iter_lines', 'json', 'links', 'next', 'ok', 'raise_for_status', 'raw', 'reason', 'request', 'status_code', 'text', 'url']\n"
     ]
    }
   ],
   "source": [
    "print(dir(page))"
   ]
  },
  {
   "cell_type": "code",
   "execution_count": 10,
   "metadata": {},
   "outputs": [
    {
     "data": {
      "text/plain": [
       "'https://grras.com/'"
      ]
     },
     "execution_count": 10,
     "metadata": {},
     "output_type": "execute_result"
    }
   ],
   "source": [
    "page.url"
   ]
  },
  {
   "cell_type": "code",
   "execution_count": 11,
   "metadata": {},
   "outputs": [
    {
     "data": {
      "text/plain": [
       "'UTF-8'"
      ]
     },
     "execution_count": 11,
     "metadata": {},
     "output_type": "execute_result"
    }
   ],
   "source": [
    "page.encoding"
   ]
  },
  {
   "cell_type": "code",
   "execution_count": 12,
   "metadata": {},
   "outputs": [
    {
     "data": {
      "text/plain": [
       "<PreparedRequest [GET]>"
      ]
     },
     "execution_count": 12,
     "metadata": {},
     "output_type": "execute_result"
    }
   ],
   "source": [
    "page.request"
   ]
  },
  {
   "cell_type": "code",
   "execution_count": 13,
   "metadata": {},
   "outputs": [
    {
     "data": {
      "text/plain": [
       "{'User-Agent': 'python-requests/2.22.0', 'Accept-Encoding': 'gzip, deflate', 'Accept': '*/*', 'Connection': 'keep-alive'}"
      ]
     },
     "execution_count": 13,
     "metadata": {},
     "output_type": "execute_result"
    }
   ],
   "source": [
    "page.request.headers"
   ]
  },
  {
   "cell_type": "code",
   "execution_count": 14,
   "metadata": {},
   "outputs": [
    {
     "data": {
      "text/plain": [
       "'text/html; charset=UTF-8'"
      ]
     },
     "execution_count": 14,
     "metadata": {},
     "output_type": "execute_result"
    }
   ],
   "source": [
    "page.headers['Content-type']"
   ]
  },
  {
   "cell_type": "code",
   "execution_count": 29,
   "metadata": {},
   "outputs": [
    {
     "name": "stdout",
     "output_type": "stream",
     "text": [
      "<!doctype html>\n",
      "<html class=\"no-js\" lang=\"\">\n",
      "    <head>\n",
      "        <meta charset=\"utf-8\">\n",
      "        <meta http-equiv=\"x-ua-compatible\" content=\"ie=edge\"> \n",
      "      \t<title>AWS Cloud, CCNA, RedHat Linux, Data Science Certification & Training Course - GRRAS</title>\n",
      "      \t      \t<meta name=\"keywords\" content=\"CCNA training in Jaipur, CCNA training in Ahmedabad, RedHat Certification in Jaipur, RedHat Certification in Indore, RedHat Certification in Ahmedabad, AWS Cloud Certification in Jaipur, AWS Cloud Certification in Indore, AWS Cloud Certification in Ahmedabad\"> \n",
      "        <meta name=\"description\" content=\"<p>Grras Solutions is one of the best CCNA, Red Hat Linux ( RHCSA & RHCE ) and AWS cloud Certification and training  course provider in Jaipur, Ahmedabad, Indore and Delhi,.100% Job Placement.</p>\r\n",
      "\">\n",
      "        <link rel=\"canonical\" href=\"https://grras.com/\" />\n",
      "        <meta name=\"classification\" content=\"AWS Cloud, CCNA, RedHat Linux, Data Science Certification &amp; Training Course - GRRAS\">\n",
      "\n"
     ]
    }
   ],
   "source": [
    "print(page.text[:1000])"
   ]
  },
  {
   "cell_type": "markdown",
   "metadata": {},
   "source": [
    "    Serlization or Deserlization - language dependent objects"
   ]
  },
  {
   "cell_type": "markdown",
   "metadata": {},
   "source": [
    "    Parsing - specific type of object to process information"
   ]
  },
  {
   "cell_type": "code",
   "execution_count": 17,
   "metadata": {},
   "outputs": [],
   "source": [
    "import re"
   ]
  },
  {
   "cell_type": "code",
   "execution_count": 24,
   "metadata": {},
   "outputs": [],
   "source": [
    "pat = re.compile('https?://.+\"')"
   ]
  },
  {
   "cell_type": "code",
   "execution_count": 25,
   "metadata": {},
   "outputs": [],
   "source": [
    "urls = re.findall(pat, page.text)"
   ]
  },
  {
   "cell_type": "code",
   "execution_count": 27,
   "metadata": {},
   "outputs": [
    {
     "data": {
      "text/plain": [
       "['https://grras.com/\"',\n",
       " 'https://grras.com\"',\n",
       " 'https://grras.com/files/jevbxpfdxyuc9bevb97h/Grras%20Logo%20white%20116x98px%20-01.png\"',\n",
       " 'https://grras.com\"',\n",
       " 'https://www.google.co.in/\"']"
      ]
     },
     "execution_count": 27,
     "metadata": {},
     "output_type": "execute_result"
    }
   ],
   "source": [
    "urls[:5]"
   ]
  },
  {
   "cell_type": "markdown",
   "metadata": {},
   "source": [
    "### Beautiful Soup"
   ]
  },
  {
   "cell_type": "code",
   "execution_count": 28,
   "metadata": {},
   "outputs": [
    {
     "name": "stdout",
     "output_type": "stream",
     "text": [
      "Requirement already satisfied: beautifulsoup4 in c:\\anaconda3\\lib\\site-packages (4.8.0)\n",
      "Requirement already satisfied: soupsieve>=1.2 in c:\\anaconda3\\lib\\site-packages (from beautifulsoup4) (1.9.3)\n"
     ]
    }
   ],
   "source": [
    "!python -m pip install beautifulsoup4"
   ]
  },
  {
   "cell_type": "code",
   "execution_count": 30,
   "metadata": {},
   "outputs": [],
   "source": [
    "from bs4 import BeautifulSoup"
   ]
  },
  {
   "cell_type": "code",
   "execution_count": 32,
   "metadata": {},
   "outputs": [],
   "source": [
    "soup = BeautifulSoup(page.text)"
   ]
  },
  {
   "cell_type": "code",
   "execution_count": 33,
   "metadata": {},
   "outputs": [
    {
     "name": "stdout",
     "output_type": "stream",
     "text": [
      "<class 'bs4.BeautifulSoup'>\n"
     ]
    }
   ],
   "source": [
    "print(type(soup))"
   ]
  },
  {
   "cell_type": "code",
   "execution_count": 34,
   "metadata": {},
   "outputs": [
    {
     "data": {
      "text/plain": [
       "<img alt=\"\" class=\"img-responsive\" src=\"https://grras.com/files/jevbxpfdxyuc9bevb97h/Grras Logo white 116x98px -01.png?s=71x60\"/>"
      ]
     },
     "execution_count": 34,
     "metadata": {},
     "output_type": "execute_result"
    }
   ],
   "source": [
    "soup.img"
   ]
  },
  {
   "cell_type": "code",
   "execution_count": 37,
   "metadata": {},
   "outputs": [
    {
     "data": {
      "text/plain": [
       "<table class=\"table text-center table-main\">\n",
       "<tfoot class=\"hidden-xs\">\n",
       "<tr>\n",
       "<td style=\"width:33.333333333333%\">\n",
       "<table class=\"tables table-bordered text-center\" style=\"width:100%;\">\n",
       "<tbody>\n",
       "<tr><td>Bundle1</td></tr>\n",
       "<tr><td>RHCE</td></tr>\n",
       "<tr><td>RHCA</td></tr>\n",
       "<tr><td>AWS-CSA</td></tr>\n",
       "</tbody>\n",
       "</table>\n",
       "</td>\n",
       "<td style=\"width:33.333333333333%\">\n",
       "<table class=\"tables table-bordered text-center\" style=\"width:100%;\">\n",
       "<tbody>\n",
       "<tr><td>Bundle2</td></tr>\n",
       "<tr><td>RHCE</td></tr>\n",
       "<tr><td>Python</td></tr>\n",
       "<tr><td>Machine Learning </td></tr>\n",
       "</tbody>\n",
       "</table>\n",
       "</td>\n",
       "<td style=\"width:33.333333333333%\">\n",
       "<table class=\"tables table-bordered text-center\" style=\"width:100%;\">\n",
       "<tbody>\n",
       "<tr><td>Bundle3</td></tr>\n",
       "<tr><td>RHCE</td></tr>\n",
       "<tr><td>AWS-CSA</td></tr>\n",
       "<tr><td>DEV-OPS</td></tr>\n",
       "</tbody>\n",
       "</table>\n",
       "</td>\n",
       "</tr>\n",
       "</tfoot>\n",
       "<tbody class=\"hidden-sm hidden-md hidden-lg\">\n",
       "<tr>\n",
       "<td style=\"width:33.333333333333%\">\n",
       "<table class=\"tables table-bordered text-center\" style=\"width:100%;\">\n",
       "<tbody>\n",
       "<tr><td>Bundle1</td></tr>\n",
       "<tr><td>RHCE</td></tr>\n",
       "<tr><td>RHCA</td></tr>\n",
       "<tr><td>AWS-CSA</td></tr>\n",
       "</tbody>\n",
       "</table>\n",
       "</td>\n",
       "<td style=\"width:33.333333333333%\">\n",
       "<table class=\"tables table-bordered text-center\" style=\"width:100%;\">\n",
       "<tbody>\n",
       "<tr><td>Bundle2</td></tr>\n",
       "<tr><td>RHCE</td></tr>\n",
       "<tr><td>Python</td></tr>\n",
       "<tr><td>Machine Learning </td></tr>\n",
       "</tbody>\n",
       "</table>\n",
       "</td>\n",
       "<td style=\"width:33.333333333333%\">\n",
       "<table class=\"tables table-bordered text-center\" style=\"width:100%;\">\n",
       "<tbody>\n",
       "<tr><td>Bundle3</td></tr>\n",
       "<tr><td>RHCE</td></tr>\n",
       "<tr><td>AWS-CSA</td></tr>\n",
       "<tr><td>DEV-OPS</td></tr>\n",
       "</tbody>\n",
       "</table>\n",
       "</td>\n",
       "</tr>\n",
       "<tr>\n",
       "</tr>\n",
       "</tbody>\n",
       "</table>"
      ]
     },
     "execution_count": 37,
     "metadata": {},
     "output_type": "execute_result"
    }
   ],
   "source": [
    "soup.table"
   ]
  },
  {
   "cell_type": "code",
   "execution_count": 38,
   "metadata": {},
   "outputs": [
    {
     "data": {
      "text/plain": [
       "<p> GRRAS- We are leading IT corporation and authorized training and business partners of RedHat &amp; AWS since 2008. We are based out in 12 cities across the nation with hi-tech labs acts as a preparation ground for budding IT aspirants who believe in giving greater heights to their careers.</p>"
      ]
     },
     "execution_count": 38,
     "metadata": {},
     "output_type": "execute_result"
    }
   ],
   "source": [
    "soup.p"
   ]
  },
  {
   "cell_type": "code",
   "execution_count": 39,
   "metadata": {},
   "outputs": [
    {
     "data": {
      "text/plain": [
       "<h1> Leading Authorised Partners of RedHat and Pearson </h1>"
      ]
     },
     "execution_count": 39,
     "metadata": {},
     "output_type": "execute_result"
    }
   ],
   "source": [
    "soup.h1"
   ]
  },
  {
   "cell_type": "code",
   "execution_count": 40,
   "metadata": {},
   "outputs": [
    {
     "data": {
      "text/plain": [
       "<img alt=\"\" class=\"img-responsive\" src=\"https://grras.com/files/jevbxpfdxyuc9bevb97h/Grras Logo white 116x98px -01.png?s=71x60\"/>"
      ]
     },
     "execution_count": 40,
     "metadata": {},
     "output_type": "execute_result"
    }
   ],
   "source": [
    "soup.img"
   ]
  },
  {
   "cell_type": "code",
   "execution_count": 43,
   "metadata": {},
   "outputs": [],
   "source": [
    "all_imgs = soup.find_all('img')"
   ]
  },
  {
   "cell_type": "code",
   "execution_count": 46,
   "metadata": {},
   "outputs": [
    {
     "data": {
      "text/plain": [
       "60"
      ]
     },
     "execution_count": 46,
     "metadata": {},
     "output_type": "execute_result"
    }
   ],
   "source": [
    "len(all_imgs)"
   ]
  },
  {
   "cell_type": "code",
   "execution_count": 48,
   "metadata": {},
   "outputs": [
    {
     "data": {
      "text/plain": [
       "<img alt=\"Deepak Khandelwal\" class=\"lazy img-responsive\" data-original=\"https://grras.com/files/4v3xgtn0v5dwhk9cm2m0/Deepak.jpeg?s=178x178\" src=\"https://grras.com/img/placeholder.png\"/>"
      ]
     },
     "execution_count": 48,
     "metadata": {},
     "output_type": "execute_result"
    }
   ],
   "source": [
    "all_imgs[50]"
   ]
  },
  {
   "cell_type": "markdown",
   "metadata": {},
   "source": [
    "    <img alt='..' class='...' data-original='..' src='..' >"
   ]
  },
  {
   "cell_type": "code",
   "execution_count": 49,
   "metadata": {},
   "outputs": [],
   "source": [
    "s = \"<h1 data='hidden data'> hello world </h1>\"\n",
    "\n",
    "ss = BeautifulSoup(s)"
   ]
  },
  {
   "cell_type": "code",
   "execution_count": 50,
   "metadata": {},
   "outputs": [
    {
     "data": {
      "text/plain": [
       "<h1 data=\"hidden data\"> hello world </h1>"
      ]
     },
     "execution_count": 50,
     "metadata": {},
     "output_type": "execute_result"
    }
   ],
   "source": [
    "ss.h1"
   ]
  },
  {
   "cell_type": "code",
   "execution_count": 52,
   "metadata": {},
   "outputs": [
    {
     "data": {
      "text/plain": [
       "' hello world '"
      ]
     },
     "execution_count": 52,
     "metadata": {},
     "output_type": "execute_result"
    }
   ],
   "source": [
    "ss.h1.string"
   ]
  },
  {
   "cell_type": "code",
   "execution_count": 53,
   "metadata": {},
   "outputs": [
    {
     "data": {
      "text/plain": [
       "' hello world '"
      ]
     },
     "execution_count": 53,
     "metadata": {},
     "output_type": "execute_result"
    }
   ],
   "source": [
    "ss.h1.text"
   ]
  },
  {
   "cell_type": "code",
   "execution_count": 55,
   "metadata": {},
   "outputs": [
    {
     "data": {
      "text/plain": [
       "'hidden data'"
      ]
     },
     "execution_count": 55,
     "metadata": {},
     "output_type": "execute_result"
    }
   ],
   "source": [
    "ss.h1.get('data') # to fetch attributes "
   ]
  },
  {
   "cell_type": "code",
   "execution_count": 56,
   "metadata": {},
   "outputs": [
    {
     "data": {
      "text/plain": [
       "''"
      ]
     },
     "execution_count": 56,
     "metadata": {},
     "output_type": "execute_result"
    }
   ],
   "source": [
    "all_imgs[50].text"
   ]
  },
  {
   "cell_type": "code",
   "execution_count": 57,
   "metadata": {},
   "outputs": [
    {
     "data": {
      "text/plain": [
       "'https://grras.com/img/placeholder.png'"
      ]
     },
     "execution_count": 57,
     "metadata": {},
     "output_type": "execute_result"
    }
   ],
   "source": [
    "all_imgs[50].get('src')"
   ]
  },
  {
   "cell_type": "code",
   "execution_count": 58,
   "metadata": {},
   "outputs": [
    {
     "data": {
      "text/plain": [
       "'https://grras.com/files/4v3xgtn0v5dwhk9cm2m0/Deepak.jpeg?s=178x178'"
      ]
     },
     "execution_count": 58,
     "metadata": {},
     "output_type": "execute_result"
    }
   ],
   "source": [
    "all_imgs[50].get('data-original')"
   ]
  },
  {
   "cell_type": "code",
   "execution_count": 59,
   "metadata": {},
   "outputs": [
    {
     "data": {
      "text/plain": [
       "'Deepak Khandelwal'"
      ]
     },
     "execution_count": 59,
     "metadata": {},
     "output_type": "execute_result"
    }
   ],
   "source": [
    "all_imgs[50].get('alt')"
   ]
  },
  {
   "cell_type": "code",
   "execution_count": 60,
   "metadata": {},
   "outputs": [
    {
     "data": {
      "text/plain": [
       "['lazy', 'img-responsive']"
      ]
     },
     "execution_count": 60,
     "metadata": {},
     "output_type": "execute_result"
    }
   ],
   "source": [
    "all_imgs[50].get('class')"
   ]
  },
  {
   "cell_type": "code",
   "execution_count": 61,
   "metadata": {},
   "outputs": [],
   "source": [
    "from IPython.display import Image"
   ]
  },
  {
   "cell_type": "code",
   "execution_count": 65,
   "metadata": {},
   "outputs": [
    {
     "data": {
      "text/html": [
       "<img src=\"https://grras.com/files/4v3xgtn0v5dwhk9cm2m0/Deepak.jpeg?s=178x178\"/>"
      ],
      "text/plain": [
       "<IPython.core.display.Image object>"
      ]
     },
     "execution_count": 65,
     "metadata": {},
     "output_type": "execute_result"
    }
   ],
   "source": [
    "Image(url=all_imgs[50].get('data-original'))"
   ]
  },
  {
   "cell_type": "markdown",
   "metadata": {},
   "source": [
    "    Asses"
   ]
  },
  {
   "cell_type": "code",
   "execution_count": 71,
   "metadata": {},
   "outputs": [
    {
     "name": "stdout",
     "output_type": "stream",
     "text": [
      "https://grras.com/files/jevbxpfdxyuc9bevb97h/Grras Logo white 116x98px -01.png?s=71x60\t|\tNone\n",
      "https://grras.com/files/skv0ivi4efawqcyr5lgc/data science banner.jpg?s=1200x500\t|\tNone\n",
      "https://grras.com/img/placeholder.png\t|\thttps://grras.com/files/til1jqbwnnnu9swfszjq/home page corporate training (1).jpg?s=500x400\n",
      "https://grras.com/img/placeholder.png\t|\thttps://grras.com/files/egrecbdivdl3uurqa3yi/home page class training (1).jpg?s=500x400\n",
      "https://grras.com/img/placeholder.png\t|\thttps://grras.com/files/mzdmnvv3jzautnjqd5j9/home page job oriented.jpg?s=500x400\n",
      "https://grras.com/img/placeholder.png\t|\thttps://grras.com/files/jfhxiqliwvh0zpgyvqi0/home page internship program (1).jpg?s=500x400\n",
      "https://grras.com/img/placeholder.png\t|\thttps://grras.com/files/clpkdoqm7f7aegntohvt/AWS Optimized.jpg?s=306x306\n",
      "img/aero.png\t|\tNone\n",
      "https://grras.com/img/placeholder.png\t|\thttps://grras.com/files/lfxbbptdtnqkrcibpktr/RedHat optimized.jpg?s=306x306\n",
      "img/aero.png\t|\tNone\n",
      "https://grras.com/img/placeholder.png\t|\thttps://grras.com/files/5egjqifogtxheseo0rqy/CCNA optimized.jpg?s=306x306\n",
      "img/aero.png\t|\tNone\n",
      "https://grras.com/img/placeholder.png\t|\thttps://grras.com/files/ejzoweksk8uttzf7m9ku/Python optimized.jpg?s=306x306\n",
      "img/aero.png\t|\tNone\n",
      "https://grras.com/img/placeholder.png\t|\thttps://grras.com/files/l9y9qppnrn5asg6uyx34/DM.jpg?s=306x306\n",
      "img/aero.png\t|\tNone\n",
      "https://grras.com/img/placeholder.png\t|\thttps://grras.com/files/h8kor1quxmfemi1lacgy/docker.jpg?s=306x306\n",
      "img/aero.png\t|\tNone\n",
      "https://grras.com/img/placeholder.png\t|\thttps://grras.com/files/wx2pvd5t3qsrdfagdpne/kubernetes.jpg?s=306x306\n",
      "img/aero.png\t|\tNone\n",
      "https://grras.com/img/placeholder.png\t|\thttps://grras.com/files/csnpvljbfvypu6m0vl2j/openshift  website page-01.jpg?s=306x306\n",
      "img/aero.png\t|\tNone\n",
      "https://grras.com/img/placeholder.png\t|\thttps://grras.com/files/jr4hgseokhpy0oxvf3zq/cyberroam.jpg?s=160x100\n",
      "https://grras.com/img/placeholder.png\t|\thttps://grras.com/files/9xoqf7pwvcvrelqts6tr/digital-ocean.jpg?s=160x100\n",
      "https://grras.com/img/placeholder.png\t|\thttps://grras.com/files/zj0s8veg5kkbd8vygswr/makemytrip.jpg?s=160x100\n",
      "https://grras.com/img/placeholder.png\t|\thttps://grras.com/files/bka5pxiwbqgjbiqfyqh5/genpact.jpg?s=160x100\n",
      "https://grras.com/img/placeholder.png\t|\thttps://grras.com/files/d6oqluclxhnnv6dpjvxz/redhat.jpg?s=160x100\n",
      "https://grras.com/img/placeholder.png\t|\thttps://grras.com/files/hpoxyglejns2yq7dkbpd/TCS.jpg?s=160x100\n",
      "https://grras.com/img/placeholder.png\t|\thttps://grras.com/files/xsutlcsrojns8xghfkwc/sophos.jpg?s=160x100\n",
      "https://grras.com/img/placeholder.png\t|\thttps://grras.com/files/ux6dvzuwg3rj7p9ktu87/rackspace.jpg?s=160x100\n",
      "https://grras.com/img/placeholder.png\t|\thttps://grras.com/files/vnnuvkbbdm2v9lsbto3d/knowarth.jpg?s=160x100\n",
      "https://grras.com/img/placeholder.png\t|\thttps://grras.com/files/knwskuszqowxellzxvza/elitecore.jpg?s=160x100\n",
      "https://grras.com/img/placeholder.png\t|\thttps://grras.com/files/aondvc6m3nyihjqrtax6/GIP-Technologies.jpg?s=160x100\n",
      "https://grras.com/img/placeholder.png\t|\thttps://grras.com/files/1mpz0zbqjikaunqs9ntl/mithi-software.jpg?s=160x100\n",
      "https://grras.com/img/placeholder.png\t|\thttps://grras.com/files/ekzdaw6mfwshvexqeybx/octal-solutions.jpg?s=160x100\n",
      "https://grras.com/img/placeholder.png\t|\thttps://grras.com/files/g9e8xxlagx47731ty4cq/dotnet-square.jpg?s=160x100\n",
      "https://grras.com/img/placeholder.png\t|\thttps://grras.com/files/ypft3un8479c5wkn1skf/innoplexus.jpg?s=160x100\n",
      "https://grras.com/img/placeholder.png\t|\thttps://grras.com/files/7c5nuxikn6s1uqizjjyz/znet-live.jpg?s=160x100\n",
      "https://grras.com/img/placeholder.png\t|\thttps://grras.com/files/zszavjoqmwhz9a0pc9yz/WIPL.jpg?s=160x100\n",
      "https://grras.com/img/placeholder.png\t|\thttps://grras.com/files/dhwori1j6vzkynuozxwx/ever-data.jpg?s=160x100\n",
      "https://grras.com/files/pg8yey3ydvxjxnx4otgb/Kunal Optimize.jpg?s=100x100\t|\tNone\n",
      "https://grras.com/files/4v3xgtn0v5dwhk9cm2m0/Deepak.jpeg?s=100x100\t|\tNone\n",
      "https://grras.com/files/gws5ixyl7kiaim39xl26/Rohit optimize.jpg?s=100x100\t|\tNone\n",
      "https://grras.com/files/bf0qnrcss92on4d2gdyq/Aayush optimize.jpg?s=100x100\t|\tNone\n",
      "https://grras.com/files/basofvt9cpdbf3s3bvtu/WhatsApp Image 2019-01-01 at 10.40.27 AM.jpeg?s=100x100\t|\tNone\n",
      "https://grras.com/files/lay8u6n47rrgj14hnfpm/IMG-20190706-WA0018.jpg?s=100x100\t|\tNone\n",
      "https://grras.com/files/bckrsvi60la8qcpkesny/Screenshot_20190708-142925__01.jpg?s=100x100\t|\tNone\n",
      "https://grras.com/files/i7vvksvmkgdzxstfgvdr/IMG-20190709-WA0124.jpg?s=100x100\t|\tNone\n",
      "https://grras.com/files/q4ryn0yudvcoxhbnfg51/Screenshot_20190716-180913.jpg?s=100x100\t|\tNone\n",
      "https://grras.com/img/placeholder.png\t|\thttps://grras.com/files/pg8yey3ydvxjxnx4otgb/Kunal Optimize.jpg?s=178x178\n",
      "https://grras.com/img/placeholder.png\t|\thttps://grras.com/files/4v3xgtn0v5dwhk9cm2m0/Deepak.jpeg?s=178x178\n",
      "https://grras.com/img/placeholder.png\t|\thttps://grras.com/files/gws5ixyl7kiaim39xl26/Rohit optimize.jpg?s=178x178\n",
      "https://grras.com/img/placeholder.png\t|\thttps://grras.com/files/bf0qnrcss92on4d2gdyq/Aayush optimize.jpg?s=178x178\n",
      "https://grras.com/img/placeholder.png\t|\thttps://grras.com/files/basofvt9cpdbf3s3bvtu/WhatsApp Image 2019-01-01 at 10.40.27 AM.jpeg?s=178x178\n",
      "https://grras.com/img/placeholder.png\t|\thttps://grras.com/files/lay8u6n47rrgj14hnfpm/IMG-20190706-WA0018.jpg?s=178x178\n",
      "https://grras.com/img/placeholder.png\t|\thttps://grras.com/files/bckrsvi60la8qcpkesny/Screenshot_20190708-142925__01.jpg?s=178x178\n",
      "https://grras.com/img/placeholder.png\t|\thttps://grras.com/files/i7vvksvmkgdzxstfgvdr/IMG-20190709-WA0124.jpg?s=178x178\n",
      "https://grras.com/img/placeholder.png\t|\thttps://grras.com/files/q4ryn0yudvcoxhbnfg51/Screenshot_20190716-180913.jpg?s=178x178\n",
      "https://grras.com/files/ddt2vxvaftjs1luefsba/offer.gif\t|\tNone\n",
      "https://grras.com/files/jevbxpfdxyuc9bevb97h/Grras Logo white 116x98px -01.png?s=60x51\t|\tNone\n"
     ]
    }
   ],
   "source": [
    "for img_tag in all_imgs:\n",
    "    print(img_tag.get('src'), img_tag.get('data-original'), sep='\\t|\\t')"
   ]
  },
  {
   "cell_type": "code",
   "execution_count": 73,
   "metadata": {},
   "outputs": [],
   "source": [
    "s  = 'https://grras.com/files/i7vvksvmkgdzxstfgvdr/IMG-20190709-WA0124.jpg?s=178x178'"
   ]
  },
  {
   "cell_type": "code",
   "execution_count": 75,
   "metadata": {},
   "outputs": [
    {
     "data": {
      "text/plain": [
       "-1"
      ]
     },
     "execution_count": 75,
     "metadata": {},
     "output_type": "execute_result"
    }
   ],
   "source": [
    "'lsdjkf'.find('?')"
   ]
  },
  {
   "cell_type": "code",
   "execution_count": 74,
   "metadata": {},
   "outputs": [
    {
     "data": {
      "text/plain": [
       "68"
      ]
     },
     "execution_count": 74,
     "metadata": {},
     "output_type": "execute_result"
    }
   ],
   "source": [
    "s.find('?')"
   ]
  },
  {
   "cell_type": "code",
   "execution_count": 82,
   "metadata": {},
   "outputs": [
    {
     "data": {
      "text/plain": [
       "'https://grras.com/files/i7vvksvmkgdzxstfgvdr/IMG-20190709-WA0124.jpg'"
      ]
     },
     "execution_count": 82,
     "metadata": {},
     "output_type": "execute_result"
    }
   ],
   "source": [
    "ns = s[:s.find('?')]\n",
    "ns"
   ]
  },
  {
   "cell_type": "code",
   "execution_count": 81,
   "metadata": {},
   "outputs": [
    {
     "data": {
      "text/plain": [
       "'jpg'"
      ]
     },
     "execution_count": 81,
     "metadata": {},
     "output_type": "execute_result"
    }
   ],
   "source": [
    "ns.split('/')[-1].split('.')[-1]"
   ]
  },
  {
   "cell_type": "code",
   "execution_count": 83,
   "metadata": {},
   "outputs": [],
   "source": [
    "page = requests.get('https://grras.com/files/i7vvksvmkgdzxstfgvdr/IMG-20190709-WA0124.jpg')"
   ]
  },
  {
   "cell_type": "code",
   "execution_count": 84,
   "metadata": {},
   "outputs": [
    {
     "data": {
      "text/plain": [
       "200"
      ]
     },
     "execution_count": 84,
     "metadata": {},
     "output_type": "execute_result"
    }
   ],
   "source": [
    "page.status_code"
   ]
  },
  {
   "cell_type": "code",
   "execution_count": 87,
   "metadata": {},
   "outputs": [
    {
     "data": {
      "text/plain": [
       "True"
      ]
     },
     "execution_count": 87,
     "metadata": {},
     "output_type": "execute_result"
    }
   ],
   "source": [
    "'image' in page.headers['Content-type']"
   ]
  },
  {
   "cell_type": "code",
   "execution_count": 88,
   "metadata": {},
   "outputs": [],
   "source": [
    "import os\n",
    "os.mkdir('web_images')"
   ]
  },
  {
   "cell_type": "code",
   "execution_count": 107,
   "metadata": {},
   "outputs": [],
   "source": [
    "import matplotlib.pyplot as plt\n",
    "%matplotlib inline\n",
    "plt.rcParams['figure.dpi'] = 100\n",
    "for side in ['top', 'bottom', 'left', 'right']:\n",
    "    plt.rcParams[f'axes.spines.{side}']  = False\n",
    "    \n",
    "plt.rcParams['xtick.top'] = False\n",
    "plt.rcParams['xtick.bottom'] = False \n",
    "plt.rcParams['xtick.labeltop'] = False     \n",
    "plt.rcParams['xtick.labelbottom'] = False\n",
    "\n",
    "plt.rcParams['ytick.left'] = False\n",
    "plt.rcParams['ytick.right'] = False \n",
    "plt.rcParams['ytick.labelleft'] = False     \n",
    "plt.rcParams['ytick.labelright'] = False\n"
   ]
  },
  {
   "cell_type": "code",
   "execution_count": 110,
   "metadata": {},
   "outputs": [],
   "source": [
    "import requests \n",
    "from bs4 import BeautifulSoup\n",
    "url = \"https://grras.com/\"\n",
    "page = requests.get(url) # requesting server for data\n",
    "soup = BeautifulSoup(page.content)\n",
    "all_imgs = soup.find_all('img')\n",
    "def download_image(all_img_tags, show=False, attr='src', dir_path='web_images'):\n",
    "    for i, img_tag in enumerate(all_img_tags):\n",
    "        url = img_tag.get(attr)\n",
    "        if url and url.find('?') != -1:\n",
    "            url = url[:url.find('?')]\n",
    "        if url:\n",
    "            ext = url.split('/')[-1].split('.')[-1]\n",
    "        if url:\n",
    "            page = requests.get(url)\n",
    "            if page.status_code == 200:\n",
    "                if 'image' in page.headers['Content-type']:\n",
    "                    path = os.path.join(dir_path, f\"image_{i}.{ext}\")\n",
    "                    with open(path, 'wb') as fp:\n",
    "                        fp.write(page.content)\n",
    "                        fp.close()\n",
    "                    if show:\n",
    "                        im = plt.imread(path)\n",
    "                        plt.imshow(im)\n",
    "                        plt.show()\n",
    "                else:\n",
    "                    print(f\"Error!!Response type is not Image but of type {page.headers['Content-type']}\")\n",
    "            else:\n",
    "                print(f\"Error!!Invalid Response from server {page.status_code}\")"
   ]
  },
  {
   "cell_type": "code",
   "execution_count": 112,
   "metadata": {},
   "outputs": [],
   "source": [
    "download_image(all_imgs, attr='data-original')"
   ]
  },
  {
   "cell_type": "code",
   "execution_count": 113,
   "metadata": {},
   "outputs": [],
   "source": [
    "url = \"https://grras.com/page/ratings-reviews\""
   ]
  },
  {
   "cell_type": "code",
   "execution_count": 114,
   "metadata": {},
   "outputs": [],
   "source": [
    "data = requests.get(url)"
   ]
  },
  {
   "cell_type": "code",
   "execution_count": 115,
   "metadata": {},
   "outputs": [
    {
     "data": {
      "text/plain": [
       "200"
      ]
     },
     "execution_count": 115,
     "metadata": {},
     "output_type": "execute_result"
    }
   ],
   "source": [
    "data.status_code"
   ]
  },
  {
   "cell_type": "code",
   "execution_count": 116,
   "metadata": {},
   "outputs": [
    {
     "data": {
      "text/plain": [
       "'text/html; charset=UTF-8'"
      ]
     },
     "execution_count": 116,
     "metadata": {},
     "output_type": "execute_result"
    }
   ],
   "source": [
    "data.headers['Content-type']"
   ]
  },
  {
   "cell_type": "code",
   "execution_count": 118,
   "metadata": {},
   "outputs": [],
   "source": [
    "soup = BeautifulSoup(data.content)"
   ]
  },
  {
   "cell_type": "code",
   "execution_count": 125,
   "metadata": {},
   "outputs": [],
   "source": [
    "elements = soup.find_all('div', attrs={'class':'recent-rating-box'})"
   ]
  },
  {
   "cell_type": "code",
   "execution_count": 127,
   "metadata": {},
   "outputs": [
    {
     "data": {
      "text/plain": [
       "[<h4 class=\"media-heading text-p mb-1\">Ritik Sharma</h4>,\n",
       " <h4 class=\"mt-0 recent-rating-title\">Training Delivery</h4>,\n",
       " <h4 class=\"mt-0 recent-rating-title\">Lab Infrastructure</h4>,\n",
       " <h4 class=\"mt-0 recent-rating-title\">Guidance</h4>]"
      ]
     },
     "execution_count": 127,
     "metadata": {},
     "output_type": "execute_result"
    }
   ],
   "source": [
    "elements[0].find_all('h4')"
   ]
  },
  {
   "cell_type": "code",
   "execution_count": 214,
   "metadata": {},
   "outputs": [
    {
     "name": "stdout",
     "output_type": "stream",
     "text": [
      "251\n"
     ]
    }
   ],
   "source": [
    "names = []\n",
    "for ele in elements:\n",
    "    names.append(ele.find_all('h4', {'class':\"media-heading text-p mb-1\"})[0].text)    \n",
    "    #print(ele.find_all('h4', {'class':\"media-heading text-p mb-1\"})[0].text)\n",
    "print(len(names))"
   ]
  },
  {
   "cell_type": "code",
   "execution_count": 170,
   "metadata": {},
   "outputs": [
    {
     "data": {
      "text/plain": [
       "251"
      ]
     },
     "execution_count": 170,
     "metadata": {},
     "output_type": "execute_result"
    }
   ],
   "source": [
    "c"
   ]
  },
  {
   "cell_type": "code",
   "execution_count": 146,
   "metadata": {},
   "outputs": [
    {
     "data": {
      "text/plain": [
       "<div class=\"recent-rating-breakup-stars\">\n",
       "<i class=\"fa fa-star ratedStar\"></i>\n",
       "<i class=\"fa fa-star ratedStar\"></i>\n",
       "<i class=\"fa fa-star ratedStar\"></i>\n",
       "<i class=\"fa fa-star ratedStar\"></i>\n",
       "<i class=\"fa fa-star ratedStar\"></i>\n",
       "</div>"
      ]
     },
     "execution_count": 146,
     "metadata": {},
     "output_type": "execute_result"
    }
   ],
   "source": [
    "td = 0\n",
    "lab = 0\n",
    "guidence = 0\n",
    "elements[0].find_all('div', {'class':'recent-rating-breakup-stars'})[0]"
   ]
  },
  {
   "cell_type": "code",
   "execution_count": 150,
   "metadata": {},
   "outputs": [
    {
     "data": {
      "text/plain": [
       "[<i class=\"fa fa-star ratedStar\"></i>,\n",
       " <i class=\"fa fa-star ratedStar\"></i>,\n",
       " <i class=\"fa fa-star ratedStar\"></i>,\n",
       " <i class=\"fa fa-star ratedStar\"></i>,\n",
       " <i class=\"fa fa-star ratedStar\"></i>]"
      ]
     },
     "execution_count": 150,
     "metadata": {},
     "output_type": "execute_result"
    }
   ],
   "source": [
    "elements[0].find_all('div', {'class':'recent-rating-breakup-stars'})[0].find_all('i')"
   ]
  },
  {
   "cell_type": "code",
   "execution_count": 152,
   "metadata": {},
   "outputs": [
    {
     "data": {
      "text/plain": [
       "['fa', 'fa-star', 'ratedStar']"
      ]
     },
     "execution_count": 152,
     "metadata": {},
     "output_type": "execute_result"
    }
   ],
   "source": [
    "elements[0].find_all('div', {'class':'recent-rating-breakup-stars'})[0].find_all('i')[0].get('class')"
   ]
  },
  {
   "cell_type": "code",
   "execution_count": 155,
   "metadata": {},
   "outputs": [],
   "source": [
    "ratings = [ 0, 0, 0]\n",
    "for tp in range(3):\n",
    "    for i in elements[0].find_all('div', {'class':'recent-rating-breakup-stars'})[tp].find_all('i'):\n",
    "        if 'ratedStar' in i.get('class'):\n",
    "            ratings[tp] += 1\n",
    "        \n",
    "            \n",
    "    "
   ]
  },
  {
   "cell_type": "code",
   "execution_count": 156,
   "metadata": {},
   "outputs": [
    {
     "data": {
      "text/plain": [
       "[5, 5, 5]"
      ]
     },
     "execution_count": 156,
     "metadata": {},
     "output_type": "execute_result"
    }
   ],
   "source": [
    "ratings"
   ]
  },
  {
   "cell_type": "code",
   "execution_count": 193,
   "metadata": {},
   "outputs": [
    {
     "data": {
      "text/plain": [
       "251"
      ]
     },
     "execution_count": 193,
     "metadata": {},
     "output_type": "execute_result"
    }
   ],
   "source": [
    "len(elements)"
   ]
  },
  {
   "cell_type": "code",
   "execution_count": 198,
   "metadata": {},
   "outputs": [
    {
     "data": {
      "text/plain": [
       "[<div class=\"recent-rating-breakup-stars\">\n",
       " <i class=\"fa fa-star ratedStar\"></i>\n",
       " <i class=\"fa fa-star ratedStar\"></i>\n",
       " <i class=\"fa fa-star ratedStar\"></i>\n",
       " <i class=\"fa fa-star ratedStar\"></i>\n",
       " <i class=\"fa fa-star ratedStar\"></i>\n",
       " </div>, <div class=\"recent-rating-breakup-stars\">\n",
       " <i class=\"fa fa-star ratedStar\"></i>\n",
       " <i class=\"fa fa-star ratedStar\"></i>\n",
       " <i class=\"fa fa-star ratedStar\"></i>\n",
       " <i class=\"fa fa-star ratedStar\"></i>\n",
       " <i class=\"fa fa-star ratedStar\"></i>\n",
       " </div>, <div class=\"recent-rating-breakup-stars\">\n",
       " <i class=\"fa fa-star ratedStar\"></i>\n",
       " <i class=\"fa fa-star ratedStar\"></i>\n",
       " <i class=\"fa fa-star ratedStar\"></i>\n",
       " <i class=\"fa fa-star ratedStar\"></i>\n",
       " <i class=\"fa fa-star ratedStar\"></i>\n",
       " </div>]"
      ]
     },
     "execution_count": 198,
     "metadata": {},
     "output_type": "execute_result"
    }
   ],
   "source": [
    "elements[0].find_all('div', {'class':'recent-rating-breakup-stars'})"
   ]
  },
  {
   "cell_type": "code",
   "execution_count": 224,
   "metadata": {},
   "outputs": [],
   "source": [
    "total_ratings = []\n",
    "for element in elements:\n",
    "    ratings = [ 0, 0, 0]\n",
    "    for i,ele in enumerate(element.find_all('div', {'class':'recent-rating-breakup-stars'})):\n",
    "        for i_tag in ele.find_all('i'):\n",
    "            if 'ratedStar' in i_tag.get('class'):\n",
    "                ratings[i]+= 1\n",
    "    #print(ratings)\n",
    "    total_ratings.append(ratings)\n"
   ]
  },
  {
   "cell_type": "code",
   "execution_count": 225,
   "metadata": {},
   "outputs": [
    {
     "data": {
      "text/plain": [
       "251"
      ]
     },
     "execution_count": 225,
     "metadata": {},
     "output_type": "execute_result"
    }
   ],
   "source": [
    "len(total_ratings)"
   ]
  },
  {
   "cell_type": "code",
   "execution_count": 220,
   "metadata": {},
   "outputs": [
    {
     "data": {
      "text/plain": [
       "[[5], [5], [5]]"
      ]
     },
     "execution_count": 220,
     "metadata": {},
     "output_type": "execute_result"
    }
   ],
   "source": [
    "total_ratings[0]"
   ]
  },
  {
   "cell_type": "code",
   "execution_count": 212,
   "metadata": {},
   "outputs": [],
   "source": [
    "reviews = []\n",
    "for element in elements:\n",
    "    reviews.append(element.find_all('p', {'class': \"recent-rating-text mt-2\"})[0].text)\n",
    "\n",
    "#elements[0].find_all('p', {'class': \"recent-rating-text mt-2\"})[0].text"
   ]
  },
  {
   "cell_type": "code",
   "execution_count": 213,
   "metadata": {},
   "outputs": [
    {
     "data": {
      "text/plain": [
       "251"
      ]
     },
     "execution_count": 213,
     "metadata": {},
     "output_type": "execute_result"
    }
   ],
   "source": [
    "len(reviews)"
   ]
  },
  {
   "cell_type": "code",
   "execution_count": 215,
   "metadata": {},
   "outputs": [
    {
     "data": {
      "text/plain": [
       "251"
      ]
     },
     "execution_count": 215,
     "metadata": {},
     "output_type": "execute_result"
    }
   ],
   "source": [
    "len(names)"
   ]
  },
  {
   "cell_type": "code",
   "execution_count": null,
   "metadata": {},
   "outputs": [],
   "source": []
  },
  {
   "cell_type": "code",
   "execution_count": null,
   "metadata": {},
   "outputs": [],
   "source": []
  },
  {
   "cell_type": "code",
   "execution_count": 227,
   "metadata": {},
   "outputs": [],
   "source": [
    "rating = pd.DataFrame(total_ratings, columns=['lab_infra', 'training_delivery', 'guidence'])"
   ]
  },
  {
   "cell_type": "code",
   "execution_count": 217,
   "metadata": {},
   "outputs": [],
   "source": [
    "lab_infra = []\n",
    "training_delivery = []\n",
    "guidence = []"
   ]
  },
  {
   "cell_type": "code",
   "execution_count": null,
   "metadata": {},
   "outputs": [],
   "source": [
    "for rat in total_ratings:\n",
    "    training_delivery.append(0)"
   ]
  },
  {
   "cell_type": "code",
   "execution_count": 216,
   "metadata": {},
   "outputs": [],
   "source": [
    "import pandas as pd"
   ]
  },
  {
   "cell_type": "code",
   "execution_count": 231,
   "metadata": {},
   "outputs": [],
   "source": [
    "df = pd.DataFrame({\n",
    "    'Name': names,\n",
    "    'Reviews': reviews,\n",
    "    'key': [ var for var in range(251)]\n",
    "})"
   ]
  },
  {
   "cell_type": "code",
   "execution_count": 233,
   "metadata": {},
   "outputs": [],
   "source": [
    "rating['key'] = [var for var in range(251)]"
   ]
  },
  {
   "cell_type": "code",
   "execution_count": 235,
   "metadata": {},
   "outputs": [
    {
     "data": {
      "text/html": [
       "<div>\n",
       "<style scoped>\n",
       "    .dataframe tbody tr th:only-of-type {\n",
       "        vertical-align: middle;\n",
       "    }\n",
       "\n",
       "    .dataframe tbody tr th {\n",
       "        vertical-align: top;\n",
       "    }\n",
       "\n",
       "    .dataframe thead th {\n",
       "        text-align: right;\n",
       "    }\n",
       "</style>\n",
       "<table border=\"1\" class=\"dataframe\">\n",
       "  <thead>\n",
       "    <tr style=\"text-align: right;\">\n",
       "      <th></th>\n",
       "      <th>Name</th>\n",
       "      <th>Reviews</th>\n",
       "      <th>key</th>\n",
       "    </tr>\n",
       "  </thead>\n",
       "  <tbody>\n",
       "    <tr>\n",
       "      <td>0</td>\n",
       "      <td>Ritik Sharma</td>\n",
       "      <td>I have a good experience at grras solutions in...</td>\n",
       "      <td>0</td>\n",
       "    </tr>\n",
       "    <tr>\n",
       "      <td>1</td>\n",
       "      <td>Niharika Chauhan</td>\n",
       "      <td>It have been wonderful experience with Grras \"...</td>\n",
       "      <td>1</td>\n",
       "    </tr>\n",
       "    <tr>\n",
       "      <td>2</td>\n",
       "      <td>Megha Sharma</td>\n",
       "      <td>I did the whole course online. It was the firs...</td>\n",
       "      <td>2</td>\n",
       "    </tr>\n",
       "    <tr>\n",
       "      <td>3</td>\n",
       "      <td>Shivani Kanwar</td>\n",
       "      <td>Really nice learning with Grras. Best place to...</td>\n",
       "      <td>3</td>\n",
       "    </tr>\n",
       "    <tr>\n",
       "      <td>4</td>\n",
       "      <td>Priyanka Jain</td>\n",
       "      <td></td>\n",
       "      <td>4</td>\n",
       "    </tr>\n",
       "  </tbody>\n",
       "</table>\n",
       "</div>"
      ],
      "text/plain": [
       "               Name                                            Reviews  key\n",
       "0      Ritik Sharma  I have a good experience at grras solutions in...    0\n",
       "1  Niharika Chauhan  It have been wonderful experience with Grras \"...    1\n",
       "2      Megha Sharma  I did the whole course online. It was the firs...    2\n",
       "3    Shivani Kanwar  Really nice learning with Grras. Best place to...    3\n",
       "4     Priyanka Jain                                                       4"
      ]
     },
     "execution_count": 235,
     "metadata": {},
     "output_type": "execute_result"
    }
   ],
   "source": [
    "df.head()"
   ]
  },
  {
   "cell_type": "code",
   "execution_count": 236,
   "metadata": {},
   "outputs": [
    {
     "data": {
      "text/html": [
       "<div>\n",
       "<style scoped>\n",
       "    .dataframe tbody tr th:only-of-type {\n",
       "        vertical-align: middle;\n",
       "    }\n",
       "\n",
       "    .dataframe tbody tr th {\n",
       "        vertical-align: top;\n",
       "    }\n",
       "\n",
       "    .dataframe thead th {\n",
       "        text-align: right;\n",
       "    }\n",
       "</style>\n",
       "<table border=\"1\" class=\"dataframe\">\n",
       "  <thead>\n",
       "    <tr style=\"text-align: right;\">\n",
       "      <th></th>\n",
       "      <th>lab_infra</th>\n",
       "      <th>training_delivery</th>\n",
       "      <th>guidence</th>\n",
       "      <th>key</th>\n",
       "    </tr>\n",
       "  </thead>\n",
       "  <tbody>\n",
       "    <tr>\n",
       "      <td>0</td>\n",
       "      <td>5</td>\n",
       "      <td>5</td>\n",
       "      <td>5</td>\n",
       "      <td>0</td>\n",
       "    </tr>\n",
       "    <tr>\n",
       "      <td>1</td>\n",
       "      <td>5</td>\n",
       "      <td>5</td>\n",
       "      <td>5</td>\n",
       "      <td>1</td>\n",
       "    </tr>\n",
       "    <tr>\n",
       "      <td>2</td>\n",
       "      <td>5</td>\n",
       "      <td>5</td>\n",
       "      <td>5</td>\n",
       "      <td>2</td>\n",
       "    </tr>\n",
       "    <tr>\n",
       "      <td>3</td>\n",
       "      <td>5</td>\n",
       "      <td>5</td>\n",
       "      <td>5</td>\n",
       "      <td>3</td>\n",
       "    </tr>\n",
       "    <tr>\n",
       "      <td>4</td>\n",
       "      <td>5</td>\n",
       "      <td>5</td>\n",
       "      <td>5</td>\n",
       "      <td>4</td>\n",
       "    </tr>\n",
       "  </tbody>\n",
       "</table>\n",
       "</div>"
      ],
      "text/plain": [
       "   lab_infra  training_delivery  guidence  key\n",
       "0          5                  5         5    0\n",
       "1          5                  5         5    1\n",
       "2          5                  5         5    2\n",
       "3          5                  5         5    3\n",
       "4          5                  5         5    4"
      ]
     },
     "execution_count": 236,
     "metadata": {},
     "output_type": "execute_result"
    }
   ],
   "source": [
    "rating.head()"
   ]
  },
  {
   "cell_type": "code",
   "execution_count": 238,
   "metadata": {},
   "outputs": [],
   "source": [
    "final_data = df.merge(rating)"
   ]
  },
  {
   "cell_type": "code",
   "execution_count": 240,
   "metadata": {},
   "outputs": [],
   "source": [
    "final_data.drop('key', axis=1, inplace=True)"
   ]
  },
  {
   "cell_type": "code",
   "execution_count": 241,
   "metadata": {},
   "outputs": [
    {
     "data": {
      "text/html": [
       "<div>\n",
       "<style scoped>\n",
       "    .dataframe tbody tr th:only-of-type {\n",
       "        vertical-align: middle;\n",
       "    }\n",
       "\n",
       "    .dataframe tbody tr th {\n",
       "        vertical-align: top;\n",
       "    }\n",
       "\n",
       "    .dataframe thead th {\n",
       "        text-align: right;\n",
       "    }\n",
       "</style>\n",
       "<table border=\"1\" class=\"dataframe\">\n",
       "  <thead>\n",
       "    <tr style=\"text-align: right;\">\n",
       "      <th></th>\n",
       "      <th>Name</th>\n",
       "      <th>Reviews</th>\n",
       "      <th>lab_infra</th>\n",
       "      <th>training_delivery</th>\n",
       "      <th>guidence</th>\n",
       "    </tr>\n",
       "  </thead>\n",
       "  <tbody>\n",
       "    <tr>\n",
       "      <td>0</td>\n",
       "      <td>Ritik Sharma</td>\n",
       "      <td>I have a good experience at grras solutions in...</td>\n",
       "      <td>5</td>\n",
       "      <td>5</td>\n",
       "      <td>5</td>\n",
       "    </tr>\n",
       "    <tr>\n",
       "      <td>1</td>\n",
       "      <td>Niharika Chauhan</td>\n",
       "      <td>It have been wonderful experience with Grras \"...</td>\n",
       "      <td>5</td>\n",
       "      <td>5</td>\n",
       "      <td>5</td>\n",
       "    </tr>\n",
       "    <tr>\n",
       "      <td>2</td>\n",
       "      <td>Megha Sharma</td>\n",
       "      <td>I did the whole course online. It was the firs...</td>\n",
       "      <td>5</td>\n",
       "      <td>5</td>\n",
       "      <td>5</td>\n",
       "    </tr>\n",
       "    <tr>\n",
       "      <td>3</td>\n",
       "      <td>Shivani Kanwar</td>\n",
       "      <td>Really nice learning with Grras. Best place to...</td>\n",
       "      <td>5</td>\n",
       "      <td>5</td>\n",
       "      <td>5</td>\n",
       "    </tr>\n",
       "    <tr>\n",
       "      <td>4</td>\n",
       "      <td>Priyanka Jain</td>\n",
       "      <td></td>\n",
       "      <td>5</td>\n",
       "      <td>5</td>\n",
       "      <td>5</td>\n",
       "    </tr>\n",
       "    <tr>\n",
       "      <td>...</td>\n",
       "      <td>...</td>\n",
       "      <td>...</td>\n",
       "      <td>...</td>\n",
       "      <td>...</td>\n",
       "      <td>...</td>\n",
       "    </tr>\n",
       "    <tr>\n",
       "      <td>246</td>\n",
       "      <td>Dewan Parmar</td>\n",
       "      <td>Good</td>\n",
       "      <td>5</td>\n",
       "      <td>5</td>\n",
       "      <td>5</td>\n",
       "    </tr>\n",
       "    <tr>\n",
       "      <td>247</td>\n",
       "      <td>Dewan</td>\n",
       "      <td>Great to join</td>\n",
       "      <td>3</td>\n",
       "      <td>4</td>\n",
       "      <td>4</td>\n",
       "    </tr>\n",
       "    <tr>\n",
       "      <td>248</td>\n",
       "      <td>Himanshu Jain</td>\n",
       "      <td>Awesome Faculty and Lab Environment. I Have go...</td>\n",
       "      <td>5</td>\n",
       "      <td>4</td>\n",
       "      <td>5</td>\n",
       "    </tr>\n",
       "    <tr>\n",
       "      <td>249</td>\n",
       "      <td>Himanshu Jain</td>\n",
       "      <td>Awesome Faculty and Lab Environment. I Have go...</td>\n",
       "      <td>5</td>\n",
       "      <td>4</td>\n",
       "      <td>5</td>\n",
       "    </tr>\n",
       "    <tr>\n",
       "      <td>250</td>\n",
       "      <td>Himanshu Jain</td>\n",
       "      <td>Awesome Faculty and Lab Environment. I Have go...</td>\n",
       "      <td>5</td>\n",
       "      <td>4</td>\n",
       "      <td>5</td>\n",
       "    </tr>\n",
       "  </tbody>\n",
       "</table>\n",
       "<p>251 rows × 5 columns</p>\n",
       "</div>"
      ],
      "text/plain": [
       "                 Name                                            Reviews  \\\n",
       "0        Ritik Sharma  I have a good experience at grras solutions in...   \n",
       "1    Niharika Chauhan  It have been wonderful experience with Grras \"...   \n",
       "2        Megha Sharma  I did the whole course online. It was the firs...   \n",
       "3      Shivani Kanwar  Really nice learning with Grras. Best place to...   \n",
       "4       Priyanka Jain                                                      \n",
       "..                ...                                                ...   \n",
       "246      Dewan Parmar                                               Good   \n",
       "247             Dewan                                      Great to join   \n",
       "248     Himanshu Jain  Awesome Faculty and Lab Environment. I Have go...   \n",
       "249     Himanshu Jain  Awesome Faculty and Lab Environment. I Have go...   \n",
       "250     Himanshu Jain  Awesome Faculty and Lab Environment. I Have go...   \n",
       "\n",
       "     lab_infra  training_delivery  guidence  \n",
       "0            5                  5         5  \n",
       "1            5                  5         5  \n",
       "2            5                  5         5  \n",
       "3            5                  5         5  \n",
       "4            5                  5         5  \n",
       "..         ...                ...       ...  \n",
       "246          5                  5         5  \n",
       "247          3                  4         4  \n",
       "248          5                  4         5  \n",
       "249          5                  4         5  \n",
       "250          5                  4         5  \n",
       "\n",
       "[251 rows x 5 columns]"
      ]
     },
     "execution_count": 241,
     "metadata": {},
     "output_type": "execute_result"
    }
   ],
   "source": [
    "final_data"
   ]
  },
  {
   "cell_type": "code",
   "execution_count": 242,
   "metadata": {},
   "outputs": [],
   "source": [
    "final_data.to_csv('grras_views.csv')"
   ]
  },
  {
   "cell_type": "code",
   "execution_count": 243,
   "metadata": {},
   "outputs": [
    {
     "data": {
      "text/html": [
       "<div>\n",
       "<style scoped>\n",
       "    .dataframe tbody tr th:only-of-type {\n",
       "        vertical-align: middle;\n",
       "    }\n",
       "\n",
       "    .dataframe tbody tr th {\n",
       "        vertical-align: top;\n",
       "    }\n",
       "\n",
       "    .dataframe thead th {\n",
       "        text-align: right;\n",
       "    }\n",
       "</style>\n",
       "<table border=\"1\" class=\"dataframe\">\n",
       "  <thead>\n",
       "    <tr style=\"text-align: right;\">\n",
       "      <th></th>\n",
       "      <th>Name</th>\n",
       "      <th>Reviews</th>\n",
       "      <th>lab_infra</th>\n",
       "      <th>training_delivery</th>\n",
       "      <th>guidence</th>\n",
       "    </tr>\n",
       "  </thead>\n",
       "  <tbody>\n",
       "    <tr>\n",
       "      <td>21</td>\n",
       "      <td>Hitesh chaudhary</td>\n",
       "      <td>I have completed my RHCSA, RHCE from grras and...</td>\n",
       "      <td>5</td>\n",
       "      <td>3</td>\n",
       "      <td>5</td>\n",
       "    </tr>\n",
       "    <tr>\n",
       "      <td>86</td>\n",
       "      <td>Chinmay Sahal</td>\n",
       "      <td>I had a great experience , teacher are so frie...</td>\n",
       "      <td>3</td>\n",
       "      <td>3</td>\n",
       "      <td>4</td>\n",
       "    </tr>\n",
       "    <tr>\n",
       "      <td>94</td>\n",
       "      <td>Ratnesh kumar Rajak</td>\n",
       "      <td>Its a best place in jaipur for traning in web ...</td>\n",
       "      <td>4</td>\n",
       "      <td>3</td>\n",
       "      <td>5</td>\n",
       "    </tr>\n",
       "    <tr>\n",
       "      <td>104</td>\n",
       "      <td>Sonika jangir</td>\n",
       "      <td>My experience with grras is very knowledgeable...</td>\n",
       "      <td>3</td>\n",
       "      <td>3</td>\n",
       "      <td>3</td>\n",
       "    </tr>\n",
       "    <tr>\n",
       "      <td>130</td>\n",
       "      <td>Mohammed tahir</td>\n",
       "      <td>Fantastic experience learn alot here and facil...</td>\n",
       "      <td>5</td>\n",
       "      <td>3</td>\n",
       "      <td>5</td>\n",
       "    </tr>\n",
       "    <tr>\n",
       "      <td>150</td>\n",
       "      <td>Nihar shah</td>\n",
       "      <td>It is a good institute</td>\n",
       "      <td>3</td>\n",
       "      <td>3</td>\n",
       "      <td>3</td>\n",
       "    </tr>\n",
       "    <tr>\n",
       "      <td>172</td>\n",
       "      <td>saiyed shoaib</td>\n",
       "      <td>It was a really great experience at grras. Fac...</td>\n",
       "      <td>3</td>\n",
       "      <td>3</td>\n",
       "      <td>4</td>\n",
       "    </tr>\n",
       "    <tr>\n",
       "      <td>207</td>\n",
       "      <td>Purujeet Singhal</td>\n",
       "      <td>Guidance is only given when the teacher has a ...</td>\n",
       "      <td>5</td>\n",
       "      <td>3</td>\n",
       "      <td>4</td>\n",
       "    </tr>\n",
       "    <tr>\n",
       "      <td>209</td>\n",
       "      <td>Stuti saxena</td>\n",
       "      <td>Great experiences  bening part of this trainin...</td>\n",
       "      <td>5</td>\n",
       "      <td>3</td>\n",
       "      <td>5</td>\n",
       "    </tr>\n",
       "  </tbody>\n",
       "</table>\n",
       "</div>"
      ],
      "text/plain": [
       "                    Name                                            Reviews  \\\n",
       "21     Hitesh chaudhary   I have completed my RHCSA, RHCE from grras and...   \n",
       "86         Chinmay Sahal  I had a great experience , teacher are so frie...   \n",
       "94   Ratnesh kumar Rajak  Its a best place in jaipur for traning in web ...   \n",
       "104        Sonika jangir  My experience with grras is very knowledgeable...   \n",
       "130      Mohammed tahir   Fantastic experience learn alot here and facil...   \n",
       "150           Nihar shah                            It is a good institute    \n",
       "172        saiyed shoaib  It was a really great experience at grras. Fac...   \n",
       "207     Purujeet Singhal  Guidance is only given when the teacher has a ...   \n",
       "209         Stuti saxena  Great experiences  bening part of this trainin...   \n",
       "\n",
       "     lab_infra  training_delivery  guidence  \n",
       "21           5                  3         5  \n",
       "86           3                  3         4  \n",
       "94           4                  3         5  \n",
       "104          3                  3         3  \n",
       "130          5                  3         5  \n",
       "150          3                  3         3  \n",
       "172          3                  3         4  \n",
       "207          5                  3         4  \n",
       "209          5                  3         5  "
      ]
     },
     "execution_count": 243,
     "metadata": {},
     "output_type": "execute_result"
    }
   ],
   "source": [
    "final_data[final_data['training_delivery'] == 3]"
   ]
  },
  {
   "cell_type": "code",
   "execution_count": 244,
   "metadata": {},
   "outputs": [
    {
     "data": {
      "text/html": [
       "<div>\n",
       "<style scoped>\n",
       "    .dataframe tbody tr th:only-of-type {\n",
       "        vertical-align: middle;\n",
       "    }\n",
       "\n",
       "    .dataframe tbody tr th {\n",
       "        vertical-align: top;\n",
       "    }\n",
       "\n",
       "    .dataframe thead th {\n",
       "        text-align: right;\n",
       "    }\n",
       "</style>\n",
       "<table border=\"1\" class=\"dataframe\">\n",
       "  <thead>\n",
       "    <tr style=\"text-align: right;\">\n",
       "      <th></th>\n",
       "      <th>Name</th>\n",
       "      <th>Reviews</th>\n",
       "      <th>lab_infra</th>\n",
       "      <th>training_delivery</th>\n",
       "      <th>guidence</th>\n",
       "    </tr>\n",
       "  </thead>\n",
       "  <tbody>\n",
       "    <tr>\n",
       "      <td>169</td>\n",
       "      <td>kaushik sorthiya</td>\n",
       "      <td>It was great experience at grass ...faculty an...</td>\n",
       "      <td>3</td>\n",
       "      <td>2</td>\n",
       "      <td>4</td>\n",
       "    </tr>\n",
       "    <tr>\n",
       "      <td>171</td>\n",
       "      <td>tushar</td>\n",
       "      <td>i am so much thank for to Grass Solutions . fo...</td>\n",
       "      <td>3</td>\n",
       "      <td>2</td>\n",
       "      <td>3</td>\n",
       "    </tr>\n",
       "    <tr>\n",
       "      <td>217</td>\n",
       "      <td>Rupesh Bhosale</td>\n",
       "      <td>Grras solutions is very good for CCNA training.</td>\n",
       "      <td>5</td>\n",
       "      <td>2</td>\n",
       "      <td>5</td>\n",
       "    </tr>\n",
       "  </tbody>\n",
       "</table>\n",
       "</div>"
      ],
      "text/plain": [
       "                 Name                                            Reviews  \\\n",
       "169  kaushik sorthiya  It was great experience at grass ...faculty an...   \n",
       "171            tushar  i am so much thank for to Grass Solutions . fo...   \n",
       "217    Rupesh Bhosale    Grras solutions is very good for CCNA training.   \n",
       "\n",
       "     lab_infra  training_delivery  guidence  \n",
       "169          3                  2         4  \n",
       "171          3                  2         3  \n",
       "217          5                  2         5  "
      ]
     },
     "execution_count": 244,
     "metadata": {},
     "output_type": "execute_result"
    }
   ],
   "source": [
    "final_data[final_data['training_delivery'] == 2]"
   ]
  },
  {
   "cell_type": "code",
   "execution_count": 245,
   "metadata": {},
   "outputs": [
    {
     "data": {
      "text/html": [
       "<div>\n",
       "<style scoped>\n",
       "    .dataframe tbody tr th:only-of-type {\n",
       "        vertical-align: middle;\n",
       "    }\n",
       "\n",
       "    .dataframe tbody tr th {\n",
       "        vertical-align: top;\n",
       "    }\n",
       "\n",
       "    .dataframe thead th {\n",
       "        text-align: right;\n",
       "    }\n",
       "</style>\n",
       "<table border=\"1\" class=\"dataframe\">\n",
       "  <thead>\n",
       "    <tr style=\"text-align: right;\">\n",
       "      <th></th>\n",
       "      <th>Name</th>\n",
       "      <th>Reviews</th>\n",
       "      <th>lab_infra</th>\n",
       "      <th>training_delivery</th>\n",
       "      <th>guidence</th>\n",
       "    </tr>\n",
       "  </thead>\n",
       "  <tbody>\n",
       "    <tr>\n",
       "      <td>156</td>\n",
       "      <td>kaushik</td>\n",
       "      <td>bed traning center and not good treachers in g...</td>\n",
       "      <td>1</td>\n",
       "      <td>1</td>\n",
       "      <td>1</td>\n",
       "    </tr>\n",
       "    <tr>\n",
       "      <td>157</td>\n",
       "      <td>kaushik</td>\n",
       "      <td>bed traning center....</td>\n",
       "      <td>1</td>\n",
       "      <td>1</td>\n",
       "      <td>1</td>\n",
       "    </tr>\n",
       "  </tbody>\n",
       "</table>\n",
       "</div>"
      ],
      "text/plain": [
       "        Name                                            Reviews  lab_infra  \\\n",
       "156  kaushik  bed traning center and not good treachers in g...          1   \n",
       "157  kaushik                             bed traning center....          1   \n",
       "\n",
       "     training_delivery  guidence  \n",
       "156                  1         1  \n",
       "157                  1         1  "
      ]
     },
     "execution_count": 245,
     "metadata": {},
     "output_type": "execute_result"
    }
   ],
   "source": [
    "final_data[final_data['training_delivery'] == 1]"
   ]
  },
  {
   "cell_type": "code",
   "execution_count": 246,
   "metadata": {},
   "outputs": [
    {
     "data": {
      "text/html": [
       "<div>\n",
       "<style scoped>\n",
       "    .dataframe tbody tr th:only-of-type {\n",
       "        vertical-align: middle;\n",
       "    }\n",
       "\n",
       "    .dataframe tbody tr th {\n",
       "        vertical-align: top;\n",
       "    }\n",
       "\n",
       "    .dataframe thead th {\n",
       "        text-align: right;\n",
       "    }\n",
       "</style>\n",
       "<table border=\"1\" class=\"dataframe\">\n",
       "  <thead>\n",
       "    <tr style=\"text-align: right;\">\n",
       "      <th></th>\n",
       "      <th>Name</th>\n",
       "      <th>Reviews</th>\n",
       "      <th>lab_infra</th>\n",
       "      <th>training_delivery</th>\n",
       "      <th>guidence</th>\n",
       "    </tr>\n",
       "  </thead>\n",
       "  <tbody>\n",
       "  </tbody>\n",
       "</table>\n",
       "</div>"
      ],
      "text/plain": [
       "Empty DataFrame\n",
       "Columns: [Name, Reviews, lab_infra, training_delivery, guidence]\n",
       "Index: []"
      ]
     },
     "execution_count": 246,
     "metadata": {},
     "output_type": "execute_result"
    }
   ],
   "source": [
    "final_data[final_data['training_delivery'] == 0]"
   ]
  },
  {
   "cell_type": "markdown",
   "metadata": {},
   "source": [
    "#### Regular Expressions "
   ]
  },
  {
   "cell_type": "code",
   "execution_count": null,
   "metadata": {},
   "outputs": [],
   "source": []
  }
 ],
 "metadata": {
  "kernelspec": {
   "display_name": "Python 3",
   "language": "python",
   "name": "python3"
  },
  "language_info": {
   "codemirror_mode": {
    "name": "ipython",
    "version": 3
   },
   "file_extension": ".py",
   "mimetype": "text/x-python",
   "name": "python",
   "nbconvert_exporter": "python",
   "pygments_lexer": "ipython3",
   "version": "3.7.4"
  }
 },
 "nbformat": 4,
 "nbformat_minor": 2
}
